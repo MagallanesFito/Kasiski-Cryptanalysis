{
 "cells": [
  {
   "cell_type": "code",
   "execution_count": 12,
   "metadata": {},
   "outputs": [],
   "source": [
    "''' Importar dependencias'''\n",
    "import matplotlib.pyplot as plt\n",
    "import numpy as np"
   ]
  },
  {
   "cell_type": "code",
   "execution_count": 5,
   "metadata": {},
   "outputs": [],
   "source": [
    "#cargar el texto\n",
    "text = open(\"secret.txt\",'r').read()"
   ]
  },
  {
   "cell_type": "markdown",
   "metadata": {},
   "source": [
    "# Preprocesamiento del texto\n",
    "Antes que nada, para un mejor manejo del texto, nos aseguramos que no tenga ningún caracter. \n",
    "En este caso simplemente quitamos puntos (\".\"), comas (\",\") o espacios. Esta funcionalidad podría extenderse a \n",
    "cualquier caracter"
   ]
  },
  {
   "cell_type": "code",
   "execution_count": 2,
   "metadata": {},
   "outputs": [],
   "source": [
    "def preprocess_text(text):\n",
    "    new_text = text.replace(\".\",\"\")\n",
    "    new_text = new_text.replace(\",\",\"\")\n",
    "    new_text = new_text.replace(\" \",\"\")\t\n",
    "    new_text = new_text.replace(\"\\n\",\"\")\n",
    "    return new_text"
   ]
  },
  {
   "cell_type": "markdown",
   "metadata": {},
   "source": [
    "# Encontrar bigramas y trigramas\n",
    "Generalmente lo primero que se hace es encontrar bigramas y trigramas en el texto cifrado, \n",
    "en este caso se define una función que calcula los *n-gramas* que básicamente consiste en subconjuntos de \n",
    "$N$ caracteres, el caso para $N = 2$ es un bigrama y $N = 3$ es un trigrama.\n",
    "La función devuelve una diccionario de n-gramas, cada uno con una lista de posiciones donde se contraron en el texto.\n",
    "Nótese que los n-gramas que solo se encontraron una vez se omiten. Por ejemplo, un posible resultado sería\n",
    "\n",
    "$\\{ GA : [1,15], AB : [4,18,140] \\}$\n",
    "\n",
    "Opcionalmente, para reducir el espacio de búsqueda en funciones posteriores, se indica como parámetro de la función un límite de n-gramas a regresar (*top*). Por ejemplo, si `top=10`. La función solamente regresa\n",
    "el top 10 de n-gramas con mayor frecuencia en el texto cifrado. Si se llama con `top=0`, la función regresa todos\n",
    "los n-gramas del texto.\n"
   ]
  },
  {
   "cell_type": "code",
   "execution_count": 6,
   "metadata": {},
   "outputs": [],
   "source": [
    "def calculate_n_grams(n,text,top=0):\n",
    "    ''' \n",
    "    n_grams = {'key' : [position_0,position_1 ... ]}\n",
    "    ''' \n",
    "    n_grams = {}\n",
    "    ''' Calcula todos los n-gramas en el texto''' \n",
    "    for i in range(0,len(text)):\n",
    "        n_gram = text[i:i+n]\n",
    "        if n_gram not in n_grams:\n",
    "            n_grams[n_gram] = [i]\n",
    "        else:\n",
    "            n_grams[n_gram].append(i)\n",
    "    '''Elimina todos los n-gramas cuyas ocurrencias sean 1.\n",
    "    Recordar que value es una lista de posiciones.'''\n",
    "    n_grams_most_ocurrences = {}\n",
    "    for key,value in n_grams.items():\n",
    "        if len(value) > 1:\n",
    "            n_grams_most_ocurrences[key] = value\n",
    "    if top > 0:\n",
    "        n_grams_most_ocurrences = sorted(n_grams_most_ocurrences.items(), key=lambda kv: len(kv[1]),reverse=True)\n",
    "        n_grams_most_ocurrences = dict(n_grams_most_ocurrences[:top]) \n",
    "    return n_grams_most_ocurrences"
   ]
  },
  {
   "cell_type": "markdown",
   "metadata": {},
   "source": [
    "# Calcular histograma de frecuencias\n",
    "\n",
    "Una herramienta muy poderosa en el criptoanálisis es el análisis de frecuencia de caractéres\n",
    "(o n-gramas) de un texto cifrado. A continuación se define la función `frequency_histogram(dictionary)` que recibe\n",
    "como parámetro un diccionario de tipo `{n-gram:[positions]}`. \n",
    "Nótese que esta funcion está hecha para recibir un diccionario exactamente como lo regresa la \n",
    "función anterior `calculate_n_grams()`. Si se quisiera realizar un análisis de frecuencia para cada caracter\n",
    "del texto, simplemente se debe obtener una lista llamando a la funcion `calculate_n_grams()` con un parámetro $N=1$. "
   ]
  },
  {
   "cell_type": "code",
   "execution_count": 30,
   "metadata": {},
   "outputs": [],
   "source": [
    "def frequency_histogram(dictionary):\n",
    "    width_bar = 0.5\n",
    "    fig,ax = plt.subplots()\n",
    "    tick_labels = tuple([key for key,_ in dictionary.items()])\n",
    "    frequencies = [len(value) for _,value in dictionary.items()]\n",
    "    ind = np.arange(len(frequencies))\n",
    "    ax.set_title(\"Frecuency Histogram\")\n",
    "    ax.bar(ind,frequencies,width_bar,color='b')\n",
    "    ax.set_ylabel('Frenquencies')\n",
    "    ax.set_xlabel('N-grams')\n",
    "    ax.set_xticks(ind)\n",
    "    ax.set_xticklabels(tick_labels)\n",
    "    plt.show()"
   ]
  },
  {
   "cell_type": "markdown",
   "metadata": {},
   "source": [
    "# Calcular diferencias entre las posiciones\n",
    "El siguiente paso es *intentar* encontrar la longitud de la clave, esto se realiza calculando todas las diferencias entre las posiciones de cada n-grama. Por ejemplo si un bigrama **GD** aparece en las posiciones \n",
    "$\\{1,31,144 \\}$ del texto cifrado, entonces las posibles longitudes de la clave serán $\\{31-1 = 30,144-1=143,144-31 =113\\}$. Esto se realiza para cada n-grama.\n",
    "Definimos la función `calculate_differences(dictionary)` que recibe como parámetro un diccionario de n-gramas y regresa un diccionario, donde cada clave es un n-grama y cada valor es una lista de diferencias."
   ]
  },
  {
   "cell_type": "code",
   "execution_count": 55,
   "metadata": {},
   "outputs": [],
   "source": [
    "def calculate_differences(dictionary):\n",
    "    def list_differences(list_):\n",
    "        local_differences = []\n",
    "        for i in range(len(list_)-1):\n",
    "            for j in range(i+1,len(list_)):\n",
    "                diff = list_[j] - list_[i]\n",
    "                if diff not in local_differences:\n",
    "                    local_differences.append(diff)\n",
    "        return local_differences\n",
    "    dict_differences = {}\n",
    "    for key,value in dictionary.items():\n",
    "        dict_differences[key] = list_differences(value)\n",
    "    return dict_differences"
   ]
  },
  {
   "cell_type": "markdown",
   "metadata": {},
   "source": [
    "# Preprocesado de diferencias\n",
    "Antes de buscar la longitud de la clave, el diccionario de diferencias pasa por un preprocesado\n",
    "para que sea más fácil trabajar con las diferencias. Se convierte en una lista y se eliminan los elementos\n",
    "duplicados. "
   ]
  },
  {
   "cell_type": "code",
   "execution_count": 66,
   "metadata": {},
   "outputs": [],
   "source": [
    "def process_differences(dictionary):\n",
    "    dic_list = list(dictionary.values())\n",
    "    full_list = []\n",
    "    for element in dic_list:\n",
    "        full_list += element\n",
    "    full_list_unique = list(set(full_list))\n",
    "    return full_list_unique"
   ]
  },
  {
   "cell_type": "markdown",
   "metadata": {},
   "source": [
    "# Búsqueda de la longitud de la clave I\n",
    "En este paso hay varias formas de resolverlo. Debido a la naturaleza del problema, no hay una respuesta que sea válida contundentemente, el proceso de búsqueda de la longitud de la clave está sujeto a probar distintos métodos. Para este paso, se tiene que encontrar un número que divida a la mayoría de las diferencias, una posible solución sería encontrar el *máximo común divisor* (mcd) de la lista de diferencias. Es decir, calcular $gcd(a_1,a_2,..a_n)$. Una forma de realizar este cálculo eficientemente es recordar el teorema de euclides : $gcd(a,b) = gcd(a,b \\mod a)$. De igual forma, la función $gcd$ es distributiva y conmutativa, es decir, $gcd(a,gcd(b,c)) = gcd(gcd(a,b),c)$. Con esto en mente, definimos la función `mcd(differences)` que recibe como parámetro una lista de diferencias, y regresa el $gcd$ de los elementos de esa lista."
   ]
  },
  {
   "cell_type": "code",
   "execution_count": 68,
   "metadata": {},
   "outputs": [],
   "source": [
    "def mcd(differences):\n",
    "    def gcd (a,b):\n",
    "        if (b == 0):\n",
    "            return a\n",
    "        else:\n",
    "             return gcd (b, a % b)\n",
    "    res = differences[0]\n",
    "    for c in differences[1::]:\n",
    "        res = gcd(res , c)\n",
    "    return res"
   ]
  },
  {
   "cell_type": "markdown",
   "metadata": {},
   "source": [
    "# Búsqueda de la longitud de la clave II\n",
    "\n",
    "Calcular el mcd de la lista puede sonar una idea tentadora, pero para el criptoanálisis podría representar una pérdida de información. En lugar de esto, podría realizarse una búsqueda de varias longitudes de clave, encontrar un número que divida a la mayoría de los elementos de la lista (pero no a todos).Sea $A$ la lista de diferencias, así entonces es posible realizar una búsqueda secuencial de posibles longitudes de clave, iniciando desde 1 (el cual dividirá a todos los elementos de la lista) y terminando hasta $ \\frac{A_{max}}{2}$ , donde $A_{max} = max\\{a_1,a_2,a_3...a_n\\}$ el máximo de la lista de diferencias. ¿Por qué $ \\frac{A_{max}}{2}$ ? Porque para encontrar los divisores de un número $a$ iniciando desde 1 y siguiendo 2,3... no tiene sentido seguir buscando después de $\\frac{a}{2}$, ¡no hay más divisores! Así, se toma como base el máximo de la lista, puesto que $M_1 > M_2 > M_3 ... M_n$ donde $M_i$ i-ésimo valor más grande de$A$, dividido entre 2.\n",
    "Se define la función `calculate_key_length(differences)` a continuación. Realiza el procedimiento mencionado anteriormente, obteniendo un diccionario de la forma {número:frecuencia} donde frecuencia es el número de elementos que divide de $A$. Por defecto muestra los 3 que mayor frecuencia tienen,pero esto se puede ajustar. "
   ]
  },
  {
   "cell_type": "code",
   "execution_count": 71,
   "metadata": {},
   "outputs": [],
   "source": [
    "def calculate_key_length(differences,top=3):\n",
    "    dict_key_lengths = {}\n",
    "    start = 2\n",
    "    end = max(differences)/2\n",
    "    dict_key_lenghts[1] = len(differences) #1 divide a todos.\n",
    "    for i in range(2,end+1):\n",
    "        for element in differences:\n",
    "            if element%i == 0:\n",
    "                if i not in dict_key_lengths:\n",
    "                    dict_key_lengths[i] = 1\n",
    "                else:\n",
    "                    dict_key_lengths[i] += 1\n",
    "    dict_key_lengths = sorted(dict_key_lengths.items(), key=lambda kv: len(kv[1]),reverse=True)\n",
    "    dict_key_lengths = dict(dict_key_lengths[:top]) \n",
    "    return dict_key_lengths\n",
    "    "
   ]
  },
  {
   "cell_type": "code",
   "execution_count": null,
   "metadata": {},
   "outputs": [],
   "source": []
  }
 ],
 "metadata": {
  "kernelspec": {
   "display_name": "Python 3",
   "language": "python",
   "name": "python3"
  },
  "language_info": {
   "codemirror_mode": {
    "name": "ipython",
    "version": 3
   },
   "file_extension": ".py",
   "mimetype": "text/x-python",
   "name": "python",
   "nbconvert_exporter": "python",
   "pygments_lexer": "ipython3",
   "version": "3.7.0"
  }
 },
 "nbformat": 4,
 "nbformat_minor": 2
}
